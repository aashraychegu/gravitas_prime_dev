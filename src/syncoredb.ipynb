{
 "cells": [
  {
   "cell_type": "code",
   "execution_count": null,
   "id": "3bb5367d",
   "metadata": {},
   "outputs": [],
   "source": [
    "from coredldev.finders.distance_scaling.h5 import h5Finder\n",
    "from coredldev.sources.distance_scaling.h5 import h5Source"
   ]
  },
  {
   "cell_type": "code",
   "execution_count": null,
   "id": "afa72e16",
   "metadata": {},
   "outputs": [],
   "source": [
    "h5Finder(sync=True,shiftpercents=[0],angles=[(0,0,0)],distances = [1])"
   ]
  },
  {
   "cell_type": "code",
   "execution_count": null,
   "id": "97bafc6e",
   "metadata": {},
   "outputs": [],
   "source": [
    "datapoints, eosmap, remaining = h5Finder(shiftpercents=[0],angles=[(0,0,0)],distances = [1]).get_datapoints()\n",
    "len(datapoints)"
   ]
  }
 ],
 "metadata": {
  "kernelspec": {
   "display_name": "gravitas_prime",
   "language": "python",
   "name": "python3"
  },
  "language_info": {
   "codemirror_mode": {
    "name": "ipython",
    "version": 3
   },
   "file_extension": ".py",
   "mimetype": "text/x-python",
   "name": "python",
   "nbconvert_exporter": "python",
   "pygments_lexer": "ipython3",
   "version": "3.12.9"
  }
 },
 "nbformat": 4,
 "nbformat_minor": 5
}
